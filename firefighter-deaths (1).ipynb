{
 "cells": [
  {
   "cell_type": "markdown",
   "id": "9161c47b",
   "metadata": {
    "papermill": {
     "duration": 0.008964,
     "end_time": "2024-04-10T15:44:53.257628",
     "exception": false,
     "start_time": "2024-04-10T15:44:53.248664",
     "status": "completed"
    },
    "tags": []
   },
   "source": [
    "# Firefighter Fatalities\n",
    "This is a project investigating on-duty deaths of United States firefighters. The goal for this project is to examine the top causes of on-duty deaths for firefighters, which will hopefully lead to an increased understanding of what can be done to reduce their risk for these causes.\n",
    "\n",
    "# About the data set\n",
    "The data was downloaded from the U.S. Fire Administration website. Additional information on inclusion criteria for the dataset was obtained from the National Fire Protection Association (NFPA) website.\n",
    "\n",
    "The data include all types of firefighters including volunteer, career, military, and prisoners. The fatalities included in this research are those resulting from traumatic injury, heart attack, or stroke while victims were on duty or within 24 hours of duty.\n",
    "\n",
    "Illnesses or medical conditions other than heart attacks or strokes are not included in the study. Deaths due to cancer are not included in these data.\n",
    "\n",
    "The data was downloaded from the U.S. Fire Administration website. It includes all recorded on-duty deaths \n",
    "\n",
    "# Acknowledgements \n",
    "This project would not be possible without members of individual fire departments, chief fire officers, fire service organizations, the U.S. Fire Administration, the National Fire Protection Association, and the National Fallen Firefighters Foundation. \n"
   ]
  },
  {
   "cell_type": "code",
   "execution_count": 1,
   "id": "613073a9",
   "metadata": {
    "execution": {
     "iopub.execute_input": "2024-04-10T15:44:53.279107Z",
     "iopub.status.busy": "2024-04-10T15:44:53.276906Z",
     "iopub.status.idle": "2024-04-10T15:44:54.704643Z",
     "shell.execute_reply": "2024-04-10T15:44:54.702889Z"
    },
    "papermill": {
     "duration": 1.441313,
     "end_time": "2024-04-10T15:44:54.707255",
     "exception": false,
     "start_time": "2024-04-10T15:44:53.265942",
     "status": "completed"
    },
    "tags": []
   },
   "outputs": [
    {
     "name": "stderr",
     "output_type": "stream",
     "text": [
      "── \u001b[1mAttaching core tidyverse packages\u001b[22m ──────────────────────── tidyverse 2.0.0 ──\n",
      "\u001b[32m✔\u001b[39m \u001b[34mdplyr    \u001b[39m 1.1.4     \u001b[32m✔\u001b[39m \u001b[34mreadr    \u001b[39m 2.1.4\n",
      "\u001b[32m✔\u001b[39m \u001b[34mforcats  \u001b[39m 1.0.0     \u001b[32m✔\u001b[39m \u001b[34mstringr  \u001b[39m 1.5.1\n",
      "\u001b[32m✔\u001b[39m \u001b[34mggplot2  \u001b[39m 3.4.4     \u001b[32m✔\u001b[39m \u001b[34mtibble   \u001b[39m 3.2.1\n",
      "\u001b[32m✔\u001b[39m \u001b[34mlubridate\u001b[39m 1.9.3     \u001b[32m✔\u001b[39m \u001b[34mtidyr    \u001b[39m 1.3.0\n",
      "\u001b[32m✔\u001b[39m \u001b[34mpurrr    \u001b[39m 1.0.2     \n",
      "── \u001b[1mConflicts\u001b[22m ────────────────────────────────────────── tidyverse_conflicts() ──\n",
      "\u001b[31m✖\u001b[39m \u001b[34mdplyr\u001b[39m::\u001b[32mfilter()\u001b[39m masks \u001b[34mstats\u001b[39m::filter()\n",
      "\u001b[31m✖\u001b[39m \u001b[34mdplyr\u001b[39m::\u001b[32mlag()\u001b[39m    masks \u001b[34mstats\u001b[39m::lag()\n",
      "\u001b[36mℹ\u001b[39m Use the conflicted package (\u001b[3m\u001b[34m<http://conflicted.r-lib.org/>\u001b[39m\u001b[23m) to force all conflicts to become errors\n",
      "\n",
      "Attaching package: ‘psych’\n",
      "\n",
      "\n",
      "The following objects are masked from ‘package:ggplot2’:\n",
      "\n",
      "    %+%, alpha\n",
      "\n",
      "\n",
      "\n",
      "Attaching package: ‘janitor’\n",
      "\n",
      "\n",
      "The following objects are masked from ‘package:stats’:\n",
      "\n",
      "    chisq.test, fisher.test\n",
      "\n",
      "\n"
     ]
    }
   ],
   "source": [
    "#import packages \n",
    "\n",
    "library(tidyverse)\n",
    "library(psych)\n",
    "library(janitor)\n",
    "library(lubridate)\n",
    "library(dplyr)\n",
    "library(knitr)\n",
    "library(ggplot2)\n",
    "library(readxl)\n"
   ]
  },
  {
   "cell_type": "code",
   "execution_count": 2,
   "id": "8ec2c347",
   "metadata": {
    "execution": {
     "iopub.execute_input": "2024-04-10T15:44:54.757723Z",
     "iopub.status.busy": "2024-04-10T15:44:54.726919Z",
     "iopub.status.idle": "2024-04-10T15:44:55.039206Z",
     "shell.execute_reply": "2024-04-10T15:44:55.036805Z"
    },
    "papermill": {
     "duration": 0.326922,
     "end_time": "2024-04-10T15:44:55.042942",
     "exception": false,
     "start_time": "2024-04-10T15:44:54.716020",
     "status": "completed"
    },
    "tags": []
   },
   "outputs": [],
   "source": [
    "#import the data\n",
    "\n",
    "deaths = read_xlsx(\"/kaggle/input/firefighter-on-duty-fatalities/deaths.xlsx\")"
   ]
  },
  {
   "cell_type": "markdown",
   "id": "ebe9612b",
   "metadata": {
    "papermill": {
     "duration": 0.009046,
     "end_time": "2024-04-10T15:44:55.061020",
     "exception": false,
     "start_time": "2024-04-10T15:44:55.051974",
     "status": "completed"
    },
    "tags": []
   },
   "source": [
    "\n",
    "### Before we go any further, I want to randomly select 2 firefighters in the dataset and anknowledge / remember their sacrifice.\n",
    "\n",
    "### Thank you to these firemen.\n"
   ]
  },
  {
   "cell_type": "code",
   "execution_count": 3,
   "id": "48168d6d",
   "metadata": {
    "execution": {
     "iopub.execute_input": "2024-04-10T15:44:55.083873Z",
     "iopub.status.busy": "2024-04-10T15:44:55.081826Z",
     "iopub.status.idle": "2024-04-10T15:44:55.203414Z",
     "shell.execute_reply": "2024-04-10T15:44:55.200903Z"
    },
    "papermill": {
     "duration": 0.136441,
     "end_time": "2024-04-10T15:44:55.206421",
     "exception": false,
     "start_time": "2024-04-10T15:44:55.069980",
     "status": "completed"
    },
    "tags": []
   },
   "outputs": [
    {
     "data": {
      "text/html": [
       "<table class=\"dataframe\">\n",
       "<caption>A tibble: 2 × 3</caption>\n",
       "<thead>\n",
       "\t<tr><th scope=col>first_name</th><th scope=col>last_name</th><th scope=col>initial_summary</th></tr>\n",
       "\t<tr><th scope=col>&lt;chr&gt;</th><th scope=col>&lt;chr&gt;</th><th scope=col>&lt;chr&gt;</th></tr>\n",
       "</thead>\n",
       "<tbody>\n",
       "\t<tr><td>Harold</td><td>Coons, Jr.</td><td>Fire Police Captain Coons responded to the scene of a serious 2-vehicle crash.  Upon his arrival on the scene, Fire Police Captain Coons began the task of controlling traffic and protecting the emergency scene.As a medical helicopter arrived on the scene, Fire Police Captain Coons was seen to drop to one knee and then fall to the ground, the victim of a heart attack.  ALS-level EMS care was initiated immediately by medical personnel who had arrived on the helicopter.Emergency medical care was continued by EMS personnel who had responded to the original crash, and Fire Police Captain Coons was transported to the hospital.  It was later reported that Fire Police Captain Coons had been pronounced dead at the hospital.Fire Police Captain Coons had held his office for 25 years and was the chairman of the board of fire commissioners for his department at the time of his death. The driver of the vehicle responsible for the original crash was charged with driving while intoxicated and additional charges related to the death of Fire Police Captain Coons.</td></tr>\n",
       "\t<tr><td>L.    </td><td>Merrell   </td><td>Lieutenant Merrell was in command of a truck company responding with lights and siren to a still alarm.  Lieutenant Merrell was riding in the right front seat of the apparatus, and he was not wearing a seat belt.The truck entered a four-way stop intersection and was broadsided by a pickup truck that ran the stop sign.  Lieutenant Merrell was thrown from the cab and struck the pavement.  Immediate medical care was provided by other firefighters and medical personnel, but Lieutenant Merrell was pronounced dead at the scene.  The cause of death was listed as blunt head trauma.  The truck company slowed prior to entering the intersection.Four other firefighters and nine civilians in two vehicles were injured.  The still alarm turned out to be a false alarm.  The Chicago Fire Department Commissioner was quoted as saying that Lieutenant Merrell could have survived the accident if he had been wearing a seat belt.  The driver of the pickup was ticketed for speeding and failure to stop.                                                                     </td></tr>\n",
       "</tbody>\n",
       "</table>\n"
      ],
      "text/latex": [
       "A tibble: 2 × 3\n",
       "\\begin{tabular}{lll}\n",
       " first\\_name & last\\_name & initial\\_summary\\\\\n",
       " <chr> & <chr> & <chr>\\\\\n",
       "\\hline\n",
       "\t Harold & Coons, Jr. & Fire Police Captain Coons responded to the scene of a serious 2-vehicle crash.  Upon his arrival on the scene, Fire Police Captain Coons began the task of controlling traffic and protecting the emergency scene.As a medical helicopter arrived on the scene, Fire Police Captain Coons was seen to drop to one knee and then fall to the ground, the victim of a heart attack.  ALS-level EMS care was initiated immediately by medical personnel who had arrived on the helicopter.Emergency medical care was continued by EMS personnel who had responded to the original crash, and Fire Police Captain Coons was transported to the hospital.  It was later reported that Fire Police Captain Coons had been pronounced dead at the hospital.Fire Police Captain Coons had held his office for 25 years and was the chairman of the board of fire commissioners for his department at the time of his death. The driver of the vehicle responsible for the original crash was charged with driving while intoxicated and additional charges related to the death of Fire Police Captain Coons.\\\\\n",
       "\t L.     & Merrell    & Lieutenant Merrell was in command of a truck company responding with lights and siren to a still alarm.  Lieutenant Merrell was riding in the right front seat of the apparatus, and he was not wearing a seat belt.The truck entered a four-way stop intersection and was broadsided by a pickup truck that ran the stop sign.  Lieutenant Merrell was thrown from the cab and struck the pavement.  Immediate medical care was provided by other firefighters and medical personnel, but Lieutenant Merrell was pronounced dead at the scene.  The cause of death was listed as blunt head trauma.  The truck company slowed prior to entering the intersection.Four other firefighters and nine civilians in two vehicles were injured.  The still alarm turned out to be a false alarm.  The Chicago Fire Department Commissioner was quoted as saying that Lieutenant Merrell could have survived the accident if he had been wearing a seat belt.  The driver of the pickup was ticketed for speeding and failure to stop.                                                                     \\\\\n",
       "\\end{tabular}\n"
      ],
      "text/markdown": [
       "\n",
       "A tibble: 2 × 3\n",
       "\n",
       "| first_name &lt;chr&gt; | last_name &lt;chr&gt; | initial_summary &lt;chr&gt; |\n",
       "|---|---|---|\n",
       "| Harold | Coons, Jr. | Fire Police Captain Coons responded to the scene of a serious 2-vehicle crash.  Upon his arrival on the scene, Fire Police Captain Coons began the task of controlling traffic and protecting the emergency scene.As a medical helicopter arrived on the scene, Fire Police Captain Coons was seen to drop to one knee and then fall to the ground, the victim of a heart attack.  ALS-level EMS care was initiated immediately by medical personnel who had arrived on the helicopter.Emergency medical care was continued by EMS personnel who had responded to the original crash, and Fire Police Captain Coons was transported to the hospital.  It was later reported that Fire Police Captain Coons had been pronounced dead at the hospital.Fire Police Captain Coons had held his office for 25 years and was the chairman of the board of fire commissioners for his department at the time of his death. The driver of the vehicle responsible for the original crash was charged with driving while intoxicated and additional charges related to the death of Fire Police Captain Coons. |\n",
       "| L.     | Merrell    | Lieutenant Merrell was in command of a truck company responding with lights and siren to a still alarm.  Lieutenant Merrell was riding in the right front seat of the apparatus, and he was not wearing a seat belt.The truck entered a four-way stop intersection and was broadsided by a pickup truck that ran the stop sign.  Lieutenant Merrell was thrown from the cab and struck the pavement.  Immediate medical care was provided by other firefighters and medical personnel, but Lieutenant Merrell was pronounced dead at the scene.  The cause of death was listed as blunt head trauma.  The truck company slowed prior to entering the intersection.Four other firefighters and nine civilians in two vehicles were injured.  The still alarm turned out to be a false alarm.  The Chicago Fire Department Commissioner was quoted as saying that Lieutenant Merrell could have survived the accident if he had been wearing a seat belt.  The driver of the pickup was ticketed for speeding and failure to stop.                                                                      |\n",
       "\n"
      ],
      "text/plain": [
       "  first_name last_name \n",
       "1 Harold     Coons, Jr.\n",
       "2 L.         Merrell   \n",
       "  initial_summary                                                                                                                                                                                                                                                                                                                                                                                                                                                                                                                                                                                                                                                                                                                                                                                                                                                                                                                                                                                                                                                                                      \n",
       "1 Fire Police Captain Coons responded to the scene of a serious 2-vehicle crash.  Upon his arrival on the scene, Fire Police Captain Coons began the task of controlling traffic and protecting the emergency scene.As a medical helicopter arrived on the scene, Fire Police Captain Coons was seen to drop to one knee and then fall to the ground, the victim of a heart attack.  ALS-level EMS care was initiated immediately by medical personnel who had arrived on the helicopter.Emergency medical care was continued by EMS personnel who had responded to the original crash, and Fire Police Captain Coons was transported to the hospital.  It was later reported that Fire Police Captain Coons had been pronounced dead at the hospital.Fire Police Captain Coons had held his office for 25 years and was the chairman of the board of fire commissioners for his department at the time of his death. The driver of the vehicle responsible for the original crash was charged with driving while intoxicated and additional charges related to the death of Fire Police Captain Coons.\n",
       "2 Lieutenant Merrell was in command of a truck company responding with lights and siren to a still alarm.  Lieutenant Merrell was riding in the right front seat of the apparatus, and he was not wearing a seat belt.The truck entered a four-way stop intersection and was broadsided by a pickup truck that ran the stop sign.  Lieutenant Merrell was thrown from the cab and struck the pavement.  Immediate medical care was provided by other firefighters and medical personnel, but Lieutenant Merrell was pronounced dead at the scene.  The cause of death was listed as blunt head trauma.  The truck company slowed prior to entering the intersection.Four other firefighters and nine civilians in two vehicles were injured.  The still alarm turned out to be a false alarm.  The Chicago Fire Department Commissioner was quoted as saying that Lieutenant Merrell could have survived the accident if he had been wearing a seat belt.  The driver of the pickup was ticketed for speeding and failure to stop.                                                                     "
      ]
     },
     "metadata": {},
     "output_type": "display_data"
    }
   ],
   "source": [
    "# grab a random sample-------------------------------------------------------------------------\n",
    "\n",
    "deaths %>% \n",
    "  select(first_name, last_name, initial_summary ) %>% \n",
    "  sample_n(2)"
   ]
  },
  {
   "cell_type": "code",
   "execution_count": 4,
   "id": "122f3069",
   "metadata": {
    "execution": {
     "iopub.execute_input": "2024-04-10T15:44:55.228156Z",
     "iopub.status.busy": "2024-04-10T15:44:55.226531Z",
     "iopub.status.idle": "2024-04-10T15:44:55.330809Z",
     "shell.execute_reply": "2024-04-10T15:44:55.329008Z"
    },
    "papermill": {
     "duration": 0.118572,
     "end_time": "2024-04-10T15:44:55.333834",
     "exception": false,
     "start_time": "2024-04-10T15:44:55.215262",
     "status": "completed"
    },
    "tags": []
   },
   "outputs": [],
   "source": [
    "#clean the column names\n",
    "deaths = deaths %>%\n",
    "  clean_names(case = \"snake\")"
   ]
  },
  {
   "cell_type": "code",
   "execution_count": 5,
   "id": "371556ef",
   "metadata": {
    "execution": {
     "iopub.execute_input": "2024-04-10T15:44:55.355968Z",
     "iopub.status.busy": "2024-04-10T15:44:55.354406Z",
     "iopub.status.idle": "2024-04-10T15:44:55.373767Z",
     "shell.execute_reply": "2024-04-10T15:44:55.371767Z"
    },
    "papermill": {
     "duration": 0.033118,
     "end_time": "2024-04-10T15:44:55.376462",
     "exception": false,
     "start_time": "2024-04-10T15:44:55.343344",
     "status": "completed"
    },
    "tags": []
   },
   "outputs": [
    {
     "data": {
      "text/html": [
       "<style>\n",
       ".list-inline {list-style: none; margin:0; padding: 0}\n",
       ".list-inline>li {display: inline-block}\n",
       ".list-inline>li:not(:last-child)::after {content: \"\\00b7\"; padding: 0 .5ex}\n",
       "</style>\n",
       "<ol class=list-inline><li>'initial_summary'</li><li>'first_name'</li><li>'last_name'</li><li>'middle_name'</li><li>'age'</li><li>'rank'</li><li>'classification'</li><li>'incident_date'</li><li>'date_of_death'</li><li>'cause_of_fatal_injury'</li><li>'nature_of_fatal_injury'</li><li>'activity'</li><li>'emergency'</li><li>'duty'</li><li>'property_type'</li><li>'memorial_fund_info'</li><li>'dept_name'</li><li>'dept_address_1'</li><li>'dept_address_2'</li><li>'dept_city'</li><li>'dept_state'</li><li>'dept_zip_code'</li></ol>\n"
      ],
      "text/latex": [
       "\\begin{enumerate*}\n",
       "\\item 'initial\\_summary'\n",
       "\\item 'first\\_name'\n",
       "\\item 'last\\_name'\n",
       "\\item 'middle\\_name'\n",
       "\\item 'age'\n",
       "\\item 'rank'\n",
       "\\item 'classification'\n",
       "\\item 'incident\\_date'\n",
       "\\item 'date\\_of\\_death'\n",
       "\\item 'cause\\_of\\_fatal\\_injury'\n",
       "\\item 'nature\\_of\\_fatal\\_injury'\n",
       "\\item 'activity'\n",
       "\\item 'emergency'\n",
       "\\item 'duty'\n",
       "\\item 'property\\_type'\n",
       "\\item 'memorial\\_fund\\_info'\n",
       "\\item 'dept\\_name'\n",
       "\\item 'dept\\_address\\_1'\n",
       "\\item 'dept\\_address\\_2'\n",
       "\\item 'dept\\_city'\n",
       "\\item 'dept\\_state'\n",
       "\\item 'dept\\_zip\\_code'\n",
       "\\end{enumerate*}\n"
      ],
      "text/markdown": [
       "1. 'initial_summary'\n",
       "2. 'first_name'\n",
       "3. 'last_name'\n",
       "4. 'middle_name'\n",
       "5. 'age'\n",
       "6. 'rank'\n",
       "7. 'classification'\n",
       "8. 'incident_date'\n",
       "9. 'date_of_death'\n",
       "10. 'cause_of_fatal_injury'\n",
       "11. 'nature_of_fatal_injury'\n",
       "12. 'activity'\n",
       "13. 'emergency'\n",
       "14. 'duty'\n",
       "15. 'property_type'\n",
       "16. 'memorial_fund_info'\n",
       "17. 'dept_name'\n",
       "18. 'dept_address_1'\n",
       "19. 'dept_address_2'\n",
       "20. 'dept_city'\n",
       "21. 'dept_state'\n",
       "22. 'dept_zip_code'\n",
       "\n",
       "\n"
      ],
      "text/plain": [
       " [1] \"initial_summary\"        \"first_name\"             \"last_name\"             \n",
       " [4] \"middle_name\"            \"age\"                    \"rank\"                  \n",
       " [7] \"classification\"         \"incident_date\"          \"date_of_death\"         \n",
       "[10] \"cause_of_fatal_injury\"  \"nature_of_fatal_injury\" \"activity\"              \n",
       "[13] \"emergency\"              \"duty\"                   \"property_type\"         \n",
       "[16] \"memorial_fund_info\"     \"dept_name\"              \"dept_address_1\"        \n",
       "[19] \"dept_address_2\"         \"dept_city\"              \"dept_state\"            \n",
       "[22] \"dept_zip_code\"         "
      ]
     },
     "metadata": {},
     "output_type": "display_data"
    }
   ],
   "source": [
    "#check the names\n",
    "names(deaths)"
   ]
  },
  {
   "cell_type": "code",
   "execution_count": 6,
   "id": "1ab9fe79",
   "metadata": {
    "execution": {
     "iopub.execute_input": "2024-04-10T15:44:55.400632Z",
     "iopub.status.busy": "2024-04-10T15:44:55.398986Z",
     "iopub.status.idle": "2024-04-10T15:44:55.443644Z",
     "shell.execute_reply": "2024-04-10T15:44:55.441780Z"
    },
    "papermill": {
     "duration": 0.059156,
     "end_time": "2024-04-10T15:44:55.446286",
     "exception": false,
     "start_time": "2024-04-10T15:44:55.387130",
     "status": "completed"
    },
    "tags": []
   },
   "outputs": [],
   "source": [
    "# separate the date into separate columns-------------------------------------------------------------------------\n",
    "\n",
    "deaths <- deaths %>%\n",
    "  mutate(date_of_death = ymd(date_of_death)) %>%\n",
    "  mutate(year = year(date_of_death),\n",
    "         month = month(date_of_death),\n",
    "         day = day(date_of_death))"
   ]
  },
  {
   "cell_type": "code",
   "execution_count": 7,
   "id": "7180da31",
   "metadata": {
    "execution": {
     "iopub.execute_input": "2024-04-10T15:44:55.468240Z",
     "iopub.status.busy": "2024-04-10T15:44:55.466689Z",
     "iopub.status.idle": "2024-04-10T15:44:55.488693Z",
     "shell.execute_reply": "2024-04-10T15:44:55.486901Z"
    },
    "papermill": {
     "duration": 0.035778,
     "end_time": "2024-04-10T15:44:55.491277",
     "exception": false,
     "start_time": "2024-04-10T15:44:55.455499",
     "status": "completed"
    },
    "tags": []
   },
   "outputs": [],
   "source": [
    "#remove the 9/11 firefighters and only consider 1991 and up\n",
    "#this event is an outlier in our dataset and cause unwanted conclusions \n",
    "deaths = deaths %>% \n",
    "  filter(!(year == 2001 & month == 9 & day == 11)) %>% \n",
    "  filter(year > 1990)"
   ]
  },
  {
   "cell_type": "code",
   "execution_count": 8,
   "id": "e4e110db",
   "metadata": {
    "execution": {
     "iopub.execute_input": "2024-04-10T15:44:55.512983Z",
     "iopub.status.busy": "2024-04-10T15:44:55.511412Z",
     "iopub.status.idle": "2024-04-10T15:44:55.533376Z",
     "shell.execute_reply": "2024-04-10T15:44:55.531657Z"
    },
    "papermill": {
     "duration": 0.035328,
     "end_time": "2024-04-10T15:44:55.535739",
     "exception": false,
     "start_time": "2024-04-10T15:44:55.500411",
     "status": "completed"
    },
    "tags": []
   },
   "outputs": [],
   "source": [
    "#combine the smaller death types into an \"other\" category\n",
    "deaths = deaths %>% \n",
    "  mutate(\n",
    "    cause_of_fatal_injury = ifelse(cause_of_fatal_injury == \"Assault\", \"Other\",\n",
    "                        ifelse(cause_of_fatal_injury == \"Contact With\", \"Other\",\n",
    "                        ifelse(cause_of_fatal_injury == \"Out of Air\", \"Other\",\n",
    "                        ifelse(cause_of_fatal_injury == \"Unknown\", \"Other\", cause_of_fatal_injury\n",
    "                        ))))) %>% \n",
    "  mutate(cause_of_fatal_injury = ifelse(cause_of_fatal_injury == \"Vehicle Collision - Includes Aircraft\", \"Vehicle/Aircraft Collision\"\n",
    "                                        , cause_of_fatal_injury ))"
   ]
  },
  {
   "cell_type": "code",
   "execution_count": 9,
   "id": "6513f0f2",
   "metadata": {
    "execution": {
     "iopub.execute_input": "2024-04-10T15:44:55.557723Z",
     "iopub.status.busy": "2024-04-10T15:44:55.556181Z",
     "iopub.status.idle": "2024-04-10T15:44:55.586879Z",
     "shell.execute_reply": "2024-04-10T15:44:55.585093Z"
    },
    "papermill": {
     "duration": 0.044488,
     "end_time": "2024-04-10T15:44:55.589617",
     "exception": false,
     "start_time": "2024-04-10T15:44:55.545129",
     "status": "completed"
    },
    "tags": []
   },
   "outputs": [],
   "source": [
    "#create a subset to base my plots on\n",
    "deathsgraph = deaths %>% \n",
    "  filter(year > 1990) %>% \n",
    "  group_by(cause_of_fatal_injury) %>% \n",
    "  summarise(\n",
    "    count = n()\n",
    "  ) %>% \n",
    "  mutate(total_count = sum(count),\n",
    "         frequency = round((count / total_count) * 100))\n"
   ]
  },
  {
   "cell_type": "code",
   "execution_count": 10,
   "id": "18ec3526",
   "metadata": {
    "execution": {
     "iopub.execute_input": "2024-04-10T15:44:55.612389Z",
     "iopub.status.busy": "2024-04-10T15:44:55.610783Z",
     "iopub.status.idle": "2024-04-10T15:44:55.676567Z",
     "shell.execute_reply": "2024-04-10T15:44:55.674446Z"
    },
    "papermill": {
     "duration": 0.079501,
     "end_time": "2024-04-10T15:44:55.678822",
     "exception": false,
     "start_time": "2024-04-10T15:44:55.599321",
     "status": "completed"
    },
    "tags": []
   },
   "outputs": [
    {
     "name": "stdout",
     "output_type": "stream",
     "text": [
      "\u001b[90m# A tibble: 11 × 4\u001b[39m\n",
      "   cause_of_fatal_injury      count total_count frequency\n",
      "   \u001b[3m\u001b[90m<chr>\u001b[39m\u001b[23m                      \u001b[3m\u001b[90m<int>\u001b[39m\u001b[23m       \u001b[3m\u001b[90m<int>\u001b[39m\u001b[23m     \u001b[3m\u001b[90m<dbl>\u001b[39m\u001b[23m\n",
      "\u001b[90m 1\u001b[39m Caught or Trapped            332        \u001b[4m3\u001b[24m189        10\n",
      "\u001b[90m 2\u001b[39m Collapse                      66        \u001b[4m3\u001b[24m189         2\n",
      "\u001b[90m 3\u001b[39m Exposure                     193        \u001b[4m3\u001b[24m189         6\n",
      "\u001b[90m 4\u001b[39m Fall                         115        \u001b[4m3\u001b[24m189         4\n",
      "\u001b[90m 5\u001b[39m Lost                          19        \u001b[4m3\u001b[24m189         1\n",
      "\u001b[90m 6\u001b[39m Other                        126        \u001b[4m3\u001b[24m189         4\n",
      "\u001b[90m 7\u001b[39m Stress/Overexertion         \u001b[4m1\u001b[24m509        \u001b[4m3\u001b[24m189        47\n",
      "\u001b[90m 8\u001b[39m Struck By                    455        \u001b[4m3\u001b[24m189        14\n",
      "\u001b[90m 9\u001b[39m Suicide                        6        \u001b[4m3\u001b[24m189         0\n",
      "\u001b[90m10\u001b[39m Vehicle/Aircraft Collision   326        \u001b[4m3\u001b[24m189        10\n",
      "\u001b[90m11\u001b[39m \u001b[31mNA\u001b[39m                            42        \u001b[4m3\u001b[24m189         1\n"
     ]
    }
   ],
   "source": [
    "print(deathsgraph)"
   ]
  },
  {
   "cell_type": "markdown",
   "id": "96197bea",
   "metadata": {
    "papermill": {
     "duration": 0.009162,
     "end_time": "2024-04-10T15:44:55.697114",
     "exception": false,
     "start_time": "2024-04-10T15:44:55.687952",
     "status": "completed"
    },
    "tags": []
   },
   "source": [
    "\n",
    "\n",
    "### We can see that stress/overexertion is a huge contributor, followed by Vehicle/Aircraft Collision and Caught or Trapped.\n",
    "\n",
    "### Stress/overexertion is typically some sort of caridac event, iincluding heart attacks. Keep in mind that the symptoms and death must occur with 24 hours of being on shift.\n",
    "\n",
    "### Vehicle/Aircraft Collision is self explanatory. Driving to fire/rescue scenes can be a very dangerous and underlooked process. This dataset also includes many aircraft/helicopter crashes.\n",
    "\n",
    "### Caught or Trapped typically indicates a firefighter who was trapped at a fire scene due to building collapse and could not escape or be rescued. \n",
    "\n",
    "### Now lets graph it to visualize the numbers \n"
   ]
  },
  {
   "cell_type": "code",
   "execution_count": 11,
   "id": "b3dfc3fe",
   "metadata": {
    "execution": {
     "iopub.execute_input": "2024-04-10T15:44:55.719207Z",
     "iopub.status.busy": "2024-04-10T15:44:55.717473Z",
     "iopub.status.idle": "2024-04-10T15:44:56.285792Z",
     "shell.execute_reply": "2024-04-10T15:44:56.282912Z"
    },
    "papermill": {
     "duration": 0.582689,
     "end_time": "2024-04-10T15:44:56.288846",
     "exception": false,
     "start_time": "2024-04-10T15:44:55.706157",
     "status": "completed"
    },
    "tags": []
   },
   "outputs": [
    {
     "data": {
      "image/png": "[encoded data removed]"
     },
     "metadata": {
      "image/png": {
       "height": 420,
       "width": 420
      }
     },
     "output_type": "display_data"
    }
   ],
   "source": [
    "\n",
    "deathsgraph %>% \n",
    "  drop_na(cause_of_fatal_injury) %>%\n",
    "  ggplot(aes(cause_of_fatal_injury, count)) +\n",
    "  geom_bar(stat = \"identity\", position = \"dodge\",  color = \"#f47321\", fill = \"#005030\") +\n",
    "  geom_text(aes(label = count), position = position_dodge(width = 0.9), vjust = -0.5) +\n",
    "  labs(title = \"Cause of on-duty firefighter deaths since 1991\")"
   ]
  },
  {
   "cell_type": "markdown",
   "id": "b63a99cf",
   "metadata": {
    "papermill": {
     "duration": 0.010106,
     "end_time": "2024-04-10T15:44:56.308983",
     "exception": false,
     "start_time": "2024-04-10T15:44:56.298877",
     "status": "completed"
    },
    "tags": []
   },
   "source": [
    "\n",
    "\n",
    "### Although the variable names are a little scrunched, we can see that Stress/Overexertion is causing a large amount of firefighter deaths while on-duty. It is ~ 47% of all deaths in the data set. Keep this in mind for our conclusion.\n",
    "\n",
    "### Next, we will look at how the deaths are distributed by age groups, and dive further into the Stress/Overexertion variable by examining the age distribution."
   ]
  },
  {
   "cell_type": "code",
   "execution_count": 12,
   "id": "fcd76042",
   "metadata": {
    "execution": {
     "iopub.execute_input": "2024-04-10T15:44:56.332259Z",
     "iopub.status.busy": "2024-04-10T15:44:56.330608Z",
     "iopub.status.idle": "2024-04-10T15:44:56.354113Z",
     "shell.execute_reply": "2024-04-10T15:44:56.352384Z"
    },
    "papermill": {
     "duration": 0.038449,
     "end_time": "2024-04-10T15:44:56.357155",
     "exception": false,
     "start_time": "2024-04-10T15:44:56.318706",
     "status": "completed"
    },
    "tags": []
   },
   "outputs": [],
   "source": [
    "#create age groups \n",
    "deaths = deaths %>% \n",
    "  mutate(age_cats = ifelse(age <= 44, \"44 and under\",\n",
    "                           ifelse(age >= 45 & age < 55, \"45-54\",\n",
    "                                  ifelse(age >= 55 & age < 65, \"55-64\", \n",
    "                                         ifelse(age >= 65, \"65 and over\", age)))))"
   ]
  },
  {
   "cell_type": "code",
   "execution_count": 13,
   "id": "07e2141c",
   "metadata": {
    "execution": {
     "iopub.execute_input": "2024-04-10T15:44:56.380310Z",
     "iopub.status.busy": "2024-04-10T15:44:56.378807Z",
     "iopub.status.idle": "2024-04-10T15:44:56.406480Z",
     "shell.execute_reply": "2024-04-10T15:44:56.404448Z"
    },
    "papermill": {
     "duration": 0.042255,
     "end_time": "2024-04-10T15:44:56.409226",
     "exception": false,
     "start_time": "2024-04-10T15:44:56.366971",
     "status": "completed"
    },
    "tags": []
   },
   "outputs": [
    {
     "data": {
      "text/plain": [
       "\n",
       "44 and under        45-54        55-64  65 and over \n",
       "        1334          841          562          346 "
      ]
     },
     "metadata": {},
     "output_type": "display_data"
    }
   ],
   "source": [
    "#check out the numbers for each group\n",
    "table(deaths$age_cats)"
   ]
  },
  {
   "cell_type": "code",
   "execution_count": 14,
   "id": "388291ba",
   "metadata": {
    "execution": {
     "iopub.execute_input": "2024-04-10T15:44:56.432590Z",
     "iopub.status.busy": "2024-04-10T15:44:56.431036Z",
     "iopub.status.idle": "2024-04-10T15:44:56.457280Z",
     "shell.execute_reply": "2024-04-10T15:44:56.455498Z"
    },
    "papermill": {
     "duration": 0.041216,
     "end_time": "2024-04-10T15:44:56.460370",
     "exception": false,
     "start_time": "2024-04-10T15:44:56.419154",
     "status": "completed"
    },
    "tags": []
   },
   "outputs": [],
   "source": [
    "# graph deaths by age cats-------------------------------------------------------------------------\n",
    "#create a subset to base my plots on\n",
    "deathschart4 = deaths %>% \n",
    "  drop_na(age_cats) %>% \n",
    "  group_by(age_cats) %>% \n",
    "  summarize(\n",
    "    count = n()\n",
    "  ) %>% \n",
    "  mutate(total_count = sum(count),\n",
    "         frequency = round((count / total_count) * 100))"
   ]
  },
  {
   "cell_type": "code",
   "execution_count": 15,
   "id": "51f4cee2",
   "metadata": {
    "execution": {
     "iopub.execute_input": "2024-04-10T15:44:56.483986Z",
     "iopub.status.busy": "2024-04-10T15:44:56.482433Z",
     "iopub.status.idle": "2024-04-10T15:44:56.519232Z",
     "shell.execute_reply": "2024-04-10T15:44:56.517146Z"
    },
    "papermill": {
     "duration": 0.051771,
     "end_time": "2024-04-10T15:44:56.522138",
     "exception": false,
     "start_time": "2024-04-10T15:44:56.470367",
     "status": "completed"
    },
    "tags": []
   },
   "outputs": [
    {
     "name": "stdout",
     "output_type": "stream",
     "text": [
      "\u001b[90m# A tibble: 4 × 4\u001b[39m\n",
      "  age_cats     count total_count frequency\n",
      "  \u001b[3m\u001b[90m<chr>\u001b[39m\u001b[23m        \u001b[3m\u001b[90m<int>\u001b[39m\u001b[23m       \u001b[3m\u001b[90m<int>\u001b[39m\u001b[23m     \u001b[3m\u001b[90m<dbl>\u001b[39m\u001b[23m\n",
      "\u001b[90m1\u001b[39m 44 and under  \u001b[4m1\u001b[24m334        \u001b[4m3\u001b[24m083        43\n",
      "\u001b[90m2\u001b[39m 45-54          841        \u001b[4m3\u001b[24m083        27\n",
      "\u001b[90m3\u001b[39m 55-64          562        \u001b[4m3\u001b[24m083        18\n",
      "\u001b[90m4\u001b[39m 65 and over    346        \u001b[4m3\u001b[24m083        11\n"
     ]
    }
   ],
   "source": [
    "print(deathschart4)"
   ]
  },
  {
   "cell_type": "code",
   "execution_count": 16,
   "id": "0369481a",
   "metadata": {
    "execution": {
     "iopub.execute_input": "2024-04-10T15:44:56.546219Z",
     "iopub.status.busy": "2024-04-10T15:44:56.544671Z",
     "iopub.status.idle": "2024-04-10T15:44:56.853194Z",
     "shell.execute_reply": "2024-04-10T15:44:56.850289Z"
    },
    "papermill": {
     "duration": 0.324008,
     "end_time": "2024-04-10T15:44:56.856349",
     "exception": false,
     "start_time": "2024-04-10T15:44:56.532341",
     "status": "completed"
    },
    "tags": []
   },
   "outputs": [
    {
     "data": {
      "image/png": "[encoded data removed]"
     },
     "metadata": {
      "image/png": {
       "height": 420,
       "width": 420
      }
     },
     "output_type": "display_data"
    }
   ],
   "source": [
    "#plot it\n",
    "deathschart4 %>%\n",
    "  drop_na(age_cats) %>% \n",
    "  ggplot(aes(age_cats, count)) +\n",
    "  geom_col(color = \"#f47321\", fill = \"#005030\")+\n",
    "  geom_text(aes(label = count), position = position_dodge(width = 0.9), vjust = -0.5)"
   ]
  },
  {
   "cell_type": "code",
   "execution_count": 17,
   "id": "f385593b",
   "metadata": {
    "execution": {
     "iopub.execute_input": "2024-04-10T15:44:56.882304Z",
     "iopub.status.busy": "2024-04-10T15:44:56.880541Z",
     "iopub.status.idle": "2024-04-10T15:44:57.179440Z",
     "shell.execute_reply": "2024-04-10T15:44:57.176702Z"
    },
    "papermill": {
     "duration": 0.315025,
     "end_time": "2024-04-10T15:44:57.182461",
     "exception": false,
     "start_time": "2024-04-10T15:44:56.867436",
     "status": "completed"
    },
    "tags": []
   },
   "outputs": [
    {
     "data": {
      "image/png": "[encoded data removed]"
     },
     "metadata": {
      "image/png": {
       "height": 420,
       "width": 420
      }
     },
     "output_type": "display_data"
    }
   ],
   "source": [
    "#chart with percentages \n",
    "deathschart4 %>%\n",
    "  drop_na(age_cats) %>% \n",
    "  ggplot(aes(age_cats, frequency)) +\n",
    "  geom_col(color = \"#f47321\", fill = \"#005030\") +\n",
    "  geom_text(aes(label = frequency), position = position_dodge(width = 0.9), vjust = -0.5)"
   ]
  },
  {
   "cell_type": "markdown",
   "id": "c129d256",
   "metadata": {
    "papermill": {
     "duration": 0.010992,
     "end_time": "2024-04-10T15:44:57.204542",
     "exception": false,
     "start_time": "2024-04-10T15:44:57.193550",
     "status": "completed"
    },
    "tags": []
   },
   "source": [
    "\n",
    "\n",
    "\n",
    "### Above you can see the percentage contribution of each age group into the dataset. \n",
    "\n",
    "### Now lets see if how this distribution looks when only applied to the stress/overexertion variable."
   ]
  },
  {
   "cell_type": "code",
   "execution_count": 18,
   "id": "99c1d4f5",
   "metadata": {
    "execution": {
     "iopub.execute_input": "2024-04-10T15:44:57.229870Z",
     "iopub.status.busy": "2024-04-10T15:44:57.228366Z",
     "iopub.status.idle": "2024-04-10T15:44:57.256892Z",
     "shell.execute_reply": "2024-04-10T15:44:57.255095Z"
    },
    "papermill": {
     "duration": 0.04468,
     "end_time": "2024-04-10T15:44:57.260124",
     "exception": false,
     "start_time": "2024-04-10T15:44:57.215444",
     "status": "completed"
    },
    "tags": []
   },
   "outputs": [],
   "source": [
    "# graph cardiac deaths by age group-------------------------------------------------------------------------\n",
    "deathschart5 = deaths %>% \n",
    "  filter(cause_of_fatal_injury == \"Stress/Overexertion\") %>% \n",
    "  drop_na(age_cats) %>% \n",
    "  group_by(age_cats) %>% \n",
    "  summarize(\n",
    "    count = n()\n",
    "  ) %>% \n",
    "  mutate(total_count = sum(count),\n",
    "         frequency = round((count / total_count) * 100))"
   ]
  },
  {
   "cell_type": "code",
   "execution_count": 19,
   "id": "8658af06",
   "metadata": {
    "execution": {
     "iopub.execute_input": "2024-04-10T15:44:57.286401Z",
     "iopub.status.busy": "2024-04-10T15:44:57.284848Z",
     "iopub.status.idle": "2024-04-10T15:44:57.319567Z",
     "shell.execute_reply": "2024-04-10T15:44:57.317798Z"
    },
    "papermill": {
     "duration": 0.050414,
     "end_time": "2024-04-10T15:44:57.321949",
     "exception": false,
     "start_time": "2024-04-10T15:44:57.271535",
     "status": "completed"
    },
    "tags": []
   },
   "outputs": [
    {
     "name": "stdout",
     "output_type": "stream",
     "text": [
      "\u001b[90m# A tibble: 4 × 4\u001b[39m\n",
      "  age_cats     count total_count frequency\n",
      "  \u001b[3m\u001b[90m<chr>\u001b[39m\u001b[23m        \u001b[3m\u001b[90m<int>\u001b[39m\u001b[23m       \u001b[3m\u001b[90m<int>\u001b[39m\u001b[23m     \u001b[3m\u001b[90m<dbl>\u001b[39m\u001b[23m\n",
      "\u001b[90m1\u001b[39m 44 and under   352        \u001b[4m1\u001b[24m457        24\n",
      "\u001b[90m2\u001b[39m 45-54          494        \u001b[4m1\u001b[24m457        34\n",
      "\u001b[90m3\u001b[39m 55-64          364        \u001b[4m1\u001b[24m457        25\n",
      "\u001b[90m4\u001b[39m 65 and over    247        \u001b[4m1\u001b[24m457        17\n"
     ]
    }
   ],
   "source": [
    "print(deathschart5)"
   ]
  },
  {
   "cell_type": "code",
   "execution_count": 20,
   "id": "f21cffd0",
   "metadata": {
    "execution": {
     "iopub.execute_input": "2024-04-10T15:44:57.348263Z",
     "iopub.status.busy": "2024-04-10T15:44:57.346689Z",
     "iopub.status.idle": "2024-04-10T15:44:57.614081Z",
     "shell.execute_reply": "2024-04-10T15:44:57.612157Z"
    },
    "papermill": {
     "duration": 0.283076,
     "end_time": "2024-04-10T15:44:57.616339",
     "exception": false,
     "start_time": "2024-04-10T15:44:57.333263",
     "status": "completed"
    },
    "tags": []
   },
   "outputs": [
    {
     "data": {
      "image/png": "[encoded data removed]"
     },
     "metadata": {
      "image/png": {
       "height": 420,
       "width": 420
      }
     },
     "output_type": "display_data"
    }
   ],
   "source": [
    "deathschart5 %>% \n",
    "  drop_na(age_cats) %>% \n",
    "  ggplot(aes(age_cats, count)) +\n",
    "  geom_col(color = \"#f47321\", fill = \"#005030\")+\n",
    "  geom_text(aes(label = count), position = position_dodge(width = 0.9), vjust = -0.5)"
   ]
  },
  {
   "cell_type": "code",
   "execution_count": 21,
   "id": "aa8303f5",
   "metadata": {
    "execution": {
     "iopub.execute_input": "2024-04-10T15:44:57.643738Z",
     "iopub.status.busy": "2024-04-10T15:44:57.642163Z",
     "iopub.status.idle": "2024-04-10T15:44:57.904021Z",
     "shell.execute_reply": "2024-04-10T15:44:57.902150Z"
    },
    "papermill": {
     "duration": 0.27831,
     "end_time": "2024-04-10T15:44:57.906607",
     "exception": false,
     "start_time": "2024-04-10T15:44:57.628297",
     "status": "completed"
    },
    "tags": []
   },
   "outputs": [
    {
     "data": {
      "image/png": "[encoded data removed]"
     },
     "metadata": {
      "image/png": {
       "height": 420,
       "width": 420
      }
     },
     "output_type": "display_data"
    }
   ],
   "source": [
    "\n",
    "deathschart5 %>%\n",
    "  drop_na(age_cats) %>% \n",
    "  ggplot(aes(age_cats, frequency)) +\n",
    "  geom_col(color = \"#f47321\", fill = \"#005030\") +\n",
    "  geom_text(aes(label = frequency), position = position_dodge(width = 0.9), vjust = -0.5)"
   ]
  },
  {
   "cell_type": "markdown",
   "id": "b8ee6c36",
   "metadata": {
    "papermill": {
     "duration": 0.012482,
     "end_time": "2024-04-10T15:44:57.931722",
     "exception": false,
     "start_time": "2024-04-10T15:44:57.919240",
     "status": "completed"
    },
    "tags": []
   },
   "source": [
    "### You can see that age is a significant contributing factor to stress/overexertion deaths. \n",
    "\n",
    "### This is expected, as in the general population as age increases as does likelihood for cardiac events. \n",
    "\n",
    "### Although I might expect these numbers to be less dramatic. Age is also coorelated to rank, and with increase in rank comes an increase in sedentary time and less expectations to perform the intense labor typically seen at more entry levels ranks."
   ]
  },
  {
   "cell_type": "code",
   "execution_count": 22,
   "id": "c53fa305",
   "metadata": {
    "execution": {
     "iopub.execute_input": "2024-04-10T15:44:57.960417Z",
     "iopub.status.busy": "2024-04-10T15:44:57.958868Z",
     "iopub.status.idle": "2024-04-10T15:44:58.203510Z",
     "shell.execute_reply": "2024-04-10T15:44:58.200453Z"
    },
    "papermill": {
     "duration": 0.262121,
     "end_time": "2024-04-10T15:44:58.206602",
     "exception": false,
     "start_time": "2024-04-10T15:44:57.944481",
     "status": "completed"
    },
    "tags": []
   },
   "outputs": [
    {
     "data": {
      "image/png": "[encoded data removed]"
     },
     "metadata": {
      "image/png": {
       "height": 420,
       "width": 420
      }
     },
     "output_type": "display_data"
    }
   ],
   "source": [
    "# graph deaths by year-------------------------------------------------------------------------\n",
    "\n",
    "deaths %>% \n",
    "  ggplot(aes(year)) +\n",
    "  geom_bar()"
   ]
  },
  {
   "cell_type": "markdown",
   "id": "127d297f",
   "metadata": {
    "papermill": {
     "duration": 0.012884,
     "end_time": "2024-04-10T15:44:58.233003",
     "exception": false,
     "start_time": "2024-04-10T15:44:58.220119",
     "status": "completed"
    },
    "tags": []
   },
   "source": [
    "\n",
    "\n",
    "\n",
    "### On-duty fatalities remain relatively steady over time at ~100 deaths per year. This is despite a growing firefighter workforce."
   ]
  },
  {
   "cell_type": "code",
   "execution_count": 23,
   "id": "9060845f",
   "metadata": {
    "execution": {
     "iopub.execute_input": "2024-04-10T15:44:58.263073Z",
     "iopub.status.busy": "2024-04-10T15:44:58.261172Z",
     "iopub.status.idle": "2024-04-10T15:44:58.313851Z",
     "shell.execute_reply": "2024-04-10T15:44:58.311989Z"
    },
    "papermill": {
     "duration": 0.070724,
     "end_time": "2024-04-10T15:44:58.316345",
     "exception": false,
     "start_time": "2024-04-10T15:44:58.245621",
     "status": "completed"
    },
    "tags": []
   },
   "outputs": [
    {
     "data": {
      "text/html": [
       "<table class=\"dataframe\">\n",
       "<caption>A tibble: 31 × 3</caption>\n",
       "<thead>\n",
       "\t<tr><th scope=col>year</th><th scope=col>count</th><th scope=col>mean</th></tr>\n",
       "\t<tr><th scope=col>&lt;dbl&gt;</th><th scope=col>&lt;int&gt;</th><th scope=col>&lt;dbl&gt;</th></tr>\n",
       "</thead>\n",
       "<tbody>\n",
       "\t<tr><td>1991</td><td>105</td><td>102.871</td></tr>\n",
       "\t<tr><td>1992</td><td> 76</td><td>102.871</td></tr>\n",
       "\t<tr><td>1993</td><td> 81</td><td>102.871</td></tr>\n",
       "\t<tr><td>1994</td><td>101</td><td>102.871</td></tr>\n",
       "\t<tr><td>1995</td><td>107</td><td>102.871</td></tr>\n",
       "\t<tr><td>1996</td><td> 94</td><td>102.871</td></tr>\n",
       "\t<tr><td>1997</td><td>101</td><td>102.871</td></tr>\n",
       "\t<tr><td>1998</td><td>102</td><td>102.871</td></tr>\n",
       "\t<tr><td>1999</td><td>131</td><td>102.871</td></tr>\n",
       "\t<tr><td>2000</td><td>114</td><td>102.871</td></tr>\n",
       "\t<tr><td>2001</td><td>113</td><td>102.871</td></tr>\n",
       "\t<tr><td>2002</td><td>105</td><td>102.871</td></tr>\n",
       "\t<tr><td>2003</td><td>121</td><td>102.871</td></tr>\n",
       "\t<tr><td>2004</td><td>121</td><td>102.871</td></tr>\n",
       "\t<tr><td>2005</td><td>121</td><td>102.871</td></tr>\n",
       "\t<tr><td>2006</td><td>113</td><td>102.871</td></tr>\n",
       "\t<tr><td>2007</td><td>122</td><td>102.871</td></tr>\n",
       "\t<tr><td>2008</td><td>124</td><td>102.871</td></tr>\n",
       "\t<tr><td>2009</td><td> 95</td><td>102.871</td></tr>\n",
       "\t<tr><td>2010</td><td> 89</td><td>102.871</td></tr>\n",
       "\t<tr><td>2011</td><td> 93</td><td>102.871</td></tr>\n",
       "\t<tr><td>2012</td><td> 86</td><td>102.871</td></tr>\n",
       "\t<tr><td>2013</td><td>110</td><td>102.871</td></tr>\n",
       "\t<tr><td>2014</td><td> 96</td><td>102.871</td></tr>\n",
       "\t<tr><td>2015</td><td> 90</td><td>102.871</td></tr>\n",
       "\t<tr><td>2016</td><td> 92</td><td>102.871</td></tr>\n",
       "\t<tr><td>2017</td><td> 93</td><td>102.871</td></tr>\n",
       "\t<tr><td>2018</td><td> 86</td><td>102.871</td></tr>\n",
       "\t<tr><td>2019</td><td> 64</td><td>102.871</td></tr>\n",
       "\t<tr><td>2020</td><td>102</td><td>102.871</td></tr>\n",
       "\t<tr><td>2021</td><td>141</td><td>102.871</td></tr>\n",
       "</tbody>\n",
       "</table>\n"
      ],
      "text/latex": [
       "A tibble: 31 × 3\n",
       "\\begin{tabular}{lll}\n",
       " year & count & mean\\\\\n",
       " <dbl> & <int> & <dbl>\\\\\n",
       "\\hline\n",
       "\t 1991 & 105 & 102.871\\\\\n",
       "\t 1992 &  76 & 102.871\\\\\n",
       "\t 1993 &  81 & 102.871\\\\\n",
       "\t 1994 & 101 & 102.871\\\\\n",
       "\t 1995 & 107 & 102.871\\\\\n",
       "\t 1996 &  94 & 102.871\\\\\n",
       "\t 1997 & 101 & 102.871\\\\\n",
       "\t 1998 & 102 & 102.871\\\\\n",
       "\t 1999 & 131 & 102.871\\\\\n",
       "\t 2000 & 114 & 102.871\\\\\n",
       "\t 2001 & 113 & 102.871\\\\\n",
       "\t 2002 & 105 & 102.871\\\\\n",
       "\t 2003 & 121 & 102.871\\\\\n",
       "\t 2004 & 121 & 102.871\\\\\n",
       "\t 2005 & 121 & 102.871\\\\\n",
       "\t 2006 & 113 & 102.871\\\\\n",
       "\t 2007 & 122 & 102.871\\\\\n",
       "\t 2008 & 124 & 102.871\\\\\n",
       "\t 2009 &  95 & 102.871\\\\\n",
       "\t 2010 &  89 & 102.871\\\\\n",
       "\t 2011 &  93 & 102.871\\\\\n",
       "\t 2012 &  86 & 102.871\\\\\n",
       "\t 2013 & 110 & 102.871\\\\\n",
       "\t 2014 &  96 & 102.871\\\\\n",
       "\t 2015 &  90 & 102.871\\\\\n",
       "\t 2016 &  92 & 102.871\\\\\n",
       "\t 2017 &  93 & 102.871\\\\\n",
       "\t 2018 &  86 & 102.871\\\\\n",
       "\t 2019 &  64 & 102.871\\\\\n",
       "\t 2020 & 102 & 102.871\\\\\n",
       "\t 2021 & 141 & 102.871\\\\\n",
       "\\end{tabular}\n"
      ],
      "text/markdown": [
       "\n",
       "A tibble: 31 × 3\n",
       "\n",
       "| year &lt;dbl&gt; | count &lt;int&gt; | mean &lt;dbl&gt; |\n",
       "|---|---|---|\n",
       "| 1991 | 105 | 102.871 |\n",
       "| 1992 |  76 | 102.871 |\n",
       "| 1993 |  81 | 102.871 |\n",
       "| 1994 | 101 | 102.871 |\n",
       "| 1995 | 107 | 102.871 |\n",
       "| 1996 |  94 | 102.871 |\n",
       "| 1997 | 101 | 102.871 |\n",
       "| 1998 | 102 | 102.871 |\n",
       "| 1999 | 131 | 102.871 |\n",
       "| 2000 | 114 | 102.871 |\n",
       "| 2001 | 113 | 102.871 |\n",
       "| 2002 | 105 | 102.871 |\n",
       "| 2003 | 121 | 102.871 |\n",
       "| 2004 | 121 | 102.871 |\n",
       "| 2005 | 121 | 102.871 |\n",
       "| 2006 | 113 | 102.871 |\n",
       "| 2007 | 122 | 102.871 |\n",
       "| 2008 | 124 | 102.871 |\n",
       "| 2009 |  95 | 102.871 |\n",
       "| 2010 |  89 | 102.871 |\n",
       "| 2011 |  93 | 102.871 |\n",
       "| 2012 |  86 | 102.871 |\n",
       "| 2013 | 110 | 102.871 |\n",
       "| 2014 |  96 | 102.871 |\n",
       "| 2015 |  90 | 102.871 |\n",
       "| 2016 |  92 | 102.871 |\n",
       "| 2017 |  93 | 102.871 |\n",
       "| 2018 |  86 | 102.871 |\n",
       "| 2019 |  64 | 102.871 |\n",
       "| 2020 | 102 | 102.871 |\n",
       "| 2021 | 141 | 102.871 |\n",
       "\n"
      ],
      "text/plain": [
       "   year count mean   \n",
       "1  1991 105   102.871\n",
       "2  1992  76   102.871\n",
       "3  1993  81   102.871\n",
       "4  1994 101   102.871\n",
       "5  1995 107   102.871\n",
       "6  1996  94   102.871\n",
       "7  1997 101   102.871\n",
       "8  1998 102   102.871\n",
       "9  1999 131   102.871\n",
       "10 2000 114   102.871\n",
       "11 2001 113   102.871\n",
       "12 2002 105   102.871\n",
       "13 2003 121   102.871\n",
       "14 2004 121   102.871\n",
       "15 2005 121   102.871\n",
       "16 2006 113   102.871\n",
       "17 2007 122   102.871\n",
       "18 2008 124   102.871\n",
       "19 2009  95   102.871\n",
       "20 2010  89   102.871\n",
       "21 2011  93   102.871\n",
       "22 2012  86   102.871\n",
       "23 2013 110   102.871\n",
       "24 2014  96   102.871\n",
       "25 2015  90   102.871\n",
       "26 2016  92   102.871\n",
       "27 2017  93   102.871\n",
       "28 2018  86   102.871\n",
       "29 2019  64   102.871\n",
       "30 2020 102   102.871\n",
       "31 2021 141   102.871"
      ]
     },
     "metadata": {},
     "output_type": "display_data"
    }
   ],
   "source": [
    "deaths %>% \n",
    "  drop_na(year) %>% \n",
    "  group_by(year) %>%  \n",
    "  summarize(\n",
    "    count = n(),\n",
    "  ) %>% \n",
    "  mutate(\n",
    "    mean = mean(count)\n",
    "  )"
   ]
  },
  {
   "cell_type": "markdown",
   "id": "18396122",
   "metadata": {
    "papermill": {
     "duration": 0.012951,
     "end_time": "2024-04-10T15:44:58.342523",
     "exception": false,
     "start_time": "2024-04-10T15:44:58.329572",
     "status": "completed"
    },
    "tags": []
   },
   "source": [
    "\n",
    "\n",
    "### Now lets lets take a look at what types of firefighters are in this dataset"
   ]
  },
  {
   "cell_type": "code",
   "execution_count": 24,
   "id": "1186de46",
   "metadata": {
    "execution": {
     "iopub.execute_input": "2024-04-10T15:44:58.372096Z",
     "iopub.status.busy": "2024-04-10T15:44:58.370462Z",
     "iopub.status.idle": "2024-04-10T15:44:58.420314Z",
     "shell.execute_reply": "2024-04-10T15:44:58.418232Z"
    },
    "papermill": {
     "duration": 0.067654,
     "end_time": "2024-04-10T15:44:58.423056",
     "exception": false,
     "start_time": "2024-04-10T15:44:58.355402",
     "status": "completed"
    },
    "tags": []
   },
   "outputs": [
    {
     "data": {
      "text/html": [
       "<table class=\"dataframe\">\n",
       "<caption>A tibble: 8 × 5</caption>\n",
       "<thead>\n",
       "\t<tr><th scope=col>classification</th><th scope=col>count</th><th scope=col>mean_age</th><th scope=col>total_count</th><th scope=col>frequency</th></tr>\n",
       "\t<tr><th scope=col>&lt;chr&gt;</th><th scope=col>&lt;int&gt;</th><th scope=col>&lt;dbl&gt;</th><th scope=col>&lt;int&gt;</th><th scope=col>&lt;dbl&gt;</th></tr>\n",
       "</thead>\n",
       "<tbody>\n",
       "\t<tr><td>Career            </td><td>1234</td><td>44.02403</td><td>3139</td><td>39</td></tr>\n",
       "\t<tr><td>Industrial        </td><td>   5</td><td>46.60000</td><td>3139</td><td> 0</td></tr>\n",
       "\t<tr><td>Paid-on-Call      </td><td>  48</td><td>48.22917</td><td>3139</td><td> 2</td></tr>\n",
       "\t<tr><td>Part-Time (Paid)  </td><td>  39</td><td>47.69231</td><td>3139</td><td> 1</td></tr>\n",
       "\t<tr><td>Volunteer         </td><td>1632</td><td>49.01509</td><td>3139</td><td>52</td></tr>\n",
       "\t<tr><td>Wildland Contract </td><td>  68</td><td>45.67188</td><td>3139</td><td> 2</td></tr>\n",
       "\t<tr><td>Wildland Full-Time</td><td>  62</td><td>37.83607</td><td>3139</td><td> 2</td></tr>\n",
       "\t<tr><td>Wildland Part-Time</td><td>  51</td><td>29.52941</td><td>3139</td><td> 2</td></tr>\n",
       "</tbody>\n",
       "</table>\n"
      ],
      "text/latex": [
       "A tibble: 8 × 5\n",
       "\\begin{tabular}{lllll}\n",
       " classification & count & mean\\_age & total\\_count & frequency\\\\\n",
       " <chr> & <int> & <dbl> & <int> & <dbl>\\\\\n",
       "\\hline\n",
       "\t Career             & 1234 & 44.02403 & 3139 & 39\\\\\n",
       "\t Industrial         &    5 & 46.60000 & 3139 &  0\\\\\n",
       "\t Paid-on-Call       &   48 & 48.22917 & 3139 &  2\\\\\n",
       "\t Part-Time (Paid)   &   39 & 47.69231 & 3139 &  1\\\\\n",
       "\t Volunteer          & 1632 & 49.01509 & 3139 & 52\\\\\n",
       "\t Wildland Contract  &   68 & 45.67188 & 3139 &  2\\\\\n",
       "\t Wildland Full-Time &   62 & 37.83607 & 3139 &  2\\\\\n",
       "\t Wildland Part-Time &   51 & 29.52941 & 3139 &  2\\\\\n",
       "\\end{tabular}\n"
      ],
      "text/markdown": [
       "\n",
       "A tibble: 8 × 5\n",
       "\n",
       "| classification &lt;chr&gt; | count &lt;int&gt; | mean_age &lt;dbl&gt; | total_count &lt;int&gt; | frequency &lt;dbl&gt; |\n",
       "|---|---|---|---|---|\n",
       "| Career             | 1234 | 44.02403 | 3139 | 39 |\n",
       "| Industrial         |    5 | 46.60000 | 3139 |  0 |\n",
       "| Paid-on-Call       |   48 | 48.22917 | 3139 |  2 |\n",
       "| Part-Time (Paid)   |   39 | 47.69231 | 3139 |  1 |\n",
       "| Volunteer          | 1632 | 49.01509 | 3139 | 52 |\n",
       "| Wildland Contract  |   68 | 45.67188 | 3139 |  2 |\n",
       "| Wildland Full-Time |   62 | 37.83607 | 3139 |  2 |\n",
       "| Wildland Part-Time |   51 | 29.52941 | 3139 |  2 |\n",
       "\n"
      ],
      "text/plain": [
       "  classification     count mean_age total_count frequency\n",
       "1 Career             1234  44.02403 3139        39       \n",
       "2 Industrial            5  46.60000 3139         0       \n",
       "3 Paid-on-Call         48  48.22917 3139         2       \n",
       "4 Part-Time (Paid)     39  47.69231 3139         1       \n",
       "5 Volunteer          1632  49.01509 3139        52       \n",
       "6 Wildland Contract    68  45.67188 3139         2       \n",
       "7 Wildland Full-Time   62  37.83607 3139         2       \n",
       "8 Wildland Part-Time   51  29.52941 3139         2       "
      ]
     },
     "metadata": {},
     "output_type": "display_data"
    }
   ],
   "source": [
    "# deaths by type of firefighter-------------------------------------------------------------------------\n",
    "deaths %>% \n",
    "  drop_na(classification) %>% \n",
    "  group_by(classification) %>% \n",
    "  summarise(\n",
    "    count = n(),\n",
    "    mean_age = mean(age, na.rm = T)\n",
    "  ) %>% \n",
    "  mutate(total_count = sum(count),\n",
    "         frequency = round((count / total_count) * 100))"
   ]
  },
  {
   "cell_type": "markdown",
   "id": "be8218a1",
   "metadata": {
    "papermill": {
     "duration": 0.013488,
     "end_time": "2024-04-10T15:44:58.449982",
     "exception": false,
     "start_time": "2024-04-10T15:44:58.436494",
     "status": "completed"
    },
    "tags": []
   },
   "source": [
    "\n",
    "\n",
    "\n",
    "### Lets break this down further, and see if either Career or Volunteers show increaced vunerability to the main cause of death in the dataset, cardiac events."
   ]
  },
  {
   "cell_type": "code",
   "execution_count": 25,
   "id": "ecc217d8",
   "metadata": {
    "execution": {
     "iopub.execute_input": "2024-04-10T15:44:58.515216Z",
     "iopub.status.busy": "2024-04-10T15:44:58.513552Z",
     "iopub.status.idle": "2024-04-10T15:44:58.556953Z",
     "shell.execute_reply": "2024-04-10T15:44:58.554584Z"
    },
    "papermill": {
     "duration": 0.062034,
     "end_time": "2024-04-10T15:44:58.559971",
     "exception": false,
     "start_time": "2024-04-10T15:44:58.497937",
     "status": "completed"
    },
    "tags": []
   },
   "outputs": [
    {
     "data": {
      "text/html": [
       "<table class=\"dataframe\">\n",
       "<caption>A tibble: 9 × 4</caption>\n",
       "<thead>\n",
       "\t<tr><th scope=col>classification</th><th scope=col>count</th><th scope=col>total_count</th><th scope=col>frequency</th></tr>\n",
       "\t<tr><th scope=col>&lt;chr&gt;</th><th scope=col>&lt;int&gt;</th><th scope=col>&lt;int&gt;</th><th scope=col>&lt;dbl&gt;</th></tr>\n",
       "</thead>\n",
       "<tbody>\n",
       "\t<tr><td>Career            </td><td>493</td><td>1509</td><td>33</td></tr>\n",
       "\t<tr><td>Industrial        </td><td>  4</td><td>1509</td><td> 0</td></tr>\n",
       "\t<tr><td>Paid-on-Call      </td><td> 32</td><td>1509</td><td> 2</td></tr>\n",
       "\t<tr><td>Part-Time (Paid)  </td><td> 21</td><td>1509</td><td> 1</td></tr>\n",
       "\t<tr><td>Volunteer         </td><td>900</td><td>1509</td><td>60</td></tr>\n",
       "\t<tr><td>Wildland Contract </td><td>  6</td><td>1509</td><td> 0</td></tr>\n",
       "\t<tr><td>Wildland Full-Time</td><td> 14</td><td>1509</td><td> 1</td></tr>\n",
       "\t<tr><td>Wildland Part-Time</td><td>  6</td><td>1509</td><td> 0</td></tr>\n",
       "\t<tr><td>NA                </td><td> 33</td><td>1509</td><td> 2</td></tr>\n",
       "</tbody>\n",
       "</table>\n"
      ],
      "text/latex": [
       "A tibble: 9 × 4\n",
       "\\begin{tabular}{llll}\n",
       " classification & count & total\\_count & frequency\\\\\n",
       " <chr> & <int> & <int> & <dbl>\\\\\n",
       "\\hline\n",
       "\t Career             & 493 & 1509 & 33\\\\\n",
       "\t Industrial         &   4 & 1509 &  0\\\\\n",
       "\t Paid-on-Call       &  32 & 1509 &  2\\\\\n",
       "\t Part-Time (Paid)   &  21 & 1509 &  1\\\\\n",
       "\t Volunteer          & 900 & 1509 & 60\\\\\n",
       "\t Wildland Contract  &   6 & 1509 &  0\\\\\n",
       "\t Wildland Full-Time &  14 & 1509 &  1\\\\\n",
       "\t Wildland Part-Time &   6 & 1509 &  0\\\\\n",
       "\t NA                 &  33 & 1509 &  2\\\\\n",
       "\\end{tabular}\n"
      ],
      "text/markdown": [
       "\n",
       "A tibble: 9 × 4\n",
       "\n",
       "| classification &lt;chr&gt; | count &lt;int&gt; | total_count &lt;int&gt; | frequency &lt;dbl&gt; |\n",
       "|---|---|---|---|\n",
       "| Career             | 493 | 1509 | 33 |\n",
       "| Industrial         |   4 | 1509 |  0 |\n",
       "| Paid-on-Call       |  32 | 1509 |  2 |\n",
       "| Part-Time (Paid)   |  21 | 1509 |  1 |\n",
       "| Volunteer          | 900 | 1509 | 60 |\n",
       "| Wildland Contract  |   6 | 1509 |  0 |\n",
       "| Wildland Full-Time |  14 | 1509 |  1 |\n",
       "| Wildland Part-Time |   6 | 1509 |  0 |\n",
       "| NA                 |  33 | 1509 |  2 |\n",
       "\n"
      ],
      "text/plain": [
       "  classification     count total_count frequency\n",
       "1 Career             493   1509        33       \n",
       "2 Industrial           4   1509         0       \n",
       "3 Paid-on-Call        32   1509         2       \n",
       "4 Part-Time (Paid)    21   1509         1       \n",
       "5 Volunteer          900   1509        60       \n",
       "6 Wildland Contract    6   1509         0       \n",
       "7 Wildland Full-Time  14   1509         1       \n",
       "8 Wildland Part-Time   6   1509         0       \n",
       "9 NA                  33   1509         2       "
      ]
     },
     "metadata": {},
     "output_type": "display_data"
    }
   ],
   "source": [
    "# cardiac deaths by type of firefighter-------------------------------------------------------------------------\n",
    "deaths %>% \n",
    "  filter(cause_of_fatal_injury == \"Stress/Overexertion\") %>% \n",
    "  group_by(classification) %>% \n",
    "  summarise(\n",
    "    count = n()\n",
    "  ) %>% \n",
    "  mutate(total_count = sum(count),\n",
    "         frequency = round((count / total_count) * 100))\n"
   ]
  },
  {
   "cell_type": "markdown",
   "id": "368bd85a",
   "metadata": {
    "papermill": {
     "duration": 0.014042,
     "end_time": "2024-04-10T15:44:58.587502",
     "exception": false,
     "start_time": "2024-04-10T15:44:58.573460",
     "status": "completed"
    },
    "tags": []
   },
   "source": [
    "### Lets dive even deeper to see if there is a significant difference between Career or Volunteers.\n",
    "\n",
    "### But first lets explore the Stress/Overexaustion option in the cause of death variable. I want to understand what % of these deaths are heart attacks."
   ]
  },
  {
   "cell_type": "code",
   "execution_count": 26,
   "id": "c88a2f26",
   "metadata": {
    "execution": {
     "iopub.execute_input": "2024-04-10T15:44:58.618711Z",
     "iopub.status.busy": "2024-04-10T15:44:58.617156Z",
     "iopub.status.idle": "2024-04-10T15:44:58.669542Z",
     "shell.execute_reply": "2024-04-10T15:44:58.667186Z"
    },
    "papermill": {
     "duration": 0.07134,
     "end_time": "2024-04-10T15:44:58.672558",
     "exception": false,
     "start_time": "2024-04-10T15:44:58.601218",
     "status": "completed"
    },
    "tags": []
   },
   "outputs": [
    {
     "data": {
      "text/html": [
       "<table class=\"dataframe\">\n",
       "<caption>A tibble: 8 × 4</caption>\n",
       "<thead>\n",
       "\t<tr><th scope=col>nature_of_fatal_injury</th><th scope=col>count</th><th scope=col>total_count</th><th scope=col>frequency</th></tr>\n",
       "\t<tr><th scope=col>&lt;chr&gt;</th><th scope=col>&lt;int&gt;</th><th scope=col>&lt;int&gt;</th><th scope=col>&lt;dbl&gt;</th></tr>\n",
       "</thead>\n",
       "<tbody>\n",
       "\t<tr><td>Asphyxiation            </td><td>   2</td><td>1508</td><td> 0</td></tr>\n",
       "\t<tr><td>Cerebrovascular Accident</td><td>  86</td><td>1508</td><td> 6</td></tr>\n",
       "\t<tr><td>Electrocution           </td><td>   2</td><td>1508</td><td> 0</td></tr>\n",
       "\t<tr><td>Heart Attack            </td><td>1380</td><td>1508</td><td>92</td></tr>\n",
       "\t<tr><td>Heat Exhaustion         </td><td>   8</td><td>1508</td><td> 1</td></tr>\n",
       "\t<tr><td>Other                   </td><td>  25</td><td>1508</td><td> 2</td></tr>\n",
       "\t<tr><td>Trauma                  </td><td>   2</td><td>1508</td><td> 0</td></tr>\n",
       "\t<tr><td>Unknown                 </td><td>   3</td><td>1508</td><td> 0</td></tr>\n",
       "</tbody>\n",
       "</table>\n"
      ],
      "text/latex": [
       "A tibble: 8 × 4\n",
       "\\begin{tabular}{llll}\n",
       " nature\\_of\\_fatal\\_injury & count & total\\_count & frequency\\\\\n",
       " <chr> & <int> & <int> & <dbl>\\\\\n",
       "\\hline\n",
       "\t Asphyxiation             &    2 & 1508 &  0\\\\\n",
       "\t Cerebrovascular Accident &   86 & 1508 &  6\\\\\n",
       "\t Electrocution            &    2 & 1508 &  0\\\\\n",
       "\t Heart Attack             & 1380 & 1508 & 92\\\\\n",
       "\t Heat Exhaustion          &    8 & 1508 &  1\\\\\n",
       "\t Other                    &   25 & 1508 &  2\\\\\n",
       "\t Trauma                   &    2 & 1508 &  0\\\\\n",
       "\t Unknown                  &    3 & 1508 &  0\\\\\n",
       "\\end{tabular}\n"
      ],
      "text/markdown": [
       "\n",
       "A tibble: 8 × 4\n",
       "\n",
       "| nature_of_fatal_injury &lt;chr&gt; | count &lt;int&gt; | total_count &lt;int&gt; | frequency &lt;dbl&gt; |\n",
       "|---|---|---|---|\n",
       "| Asphyxiation             |    2 | 1508 |  0 |\n",
       "| Cerebrovascular Accident |   86 | 1508 |  6 |\n",
       "| Electrocution            |    2 | 1508 |  0 |\n",
       "| Heart Attack             | 1380 | 1508 | 92 |\n",
       "| Heat Exhaustion          |    8 | 1508 |  1 |\n",
       "| Other                    |   25 | 1508 |  2 |\n",
       "| Trauma                   |    2 | 1508 |  0 |\n",
       "| Unknown                  |    3 | 1508 |  0 |\n",
       "\n"
      ],
      "text/plain": [
       "  nature_of_fatal_injury   count total_count frequency\n",
       "1 Asphyxiation                2  1508         0       \n",
       "2 Cerebrovascular Accident   86  1508         6       \n",
       "3 Electrocution               2  1508         0       \n",
       "4 Heart Attack             1380  1508        92       \n",
       "5 Heat Exhaustion             8  1508         1       \n",
       "6 Other                      25  1508         2       \n",
       "7 Trauma                      2  1508         0       \n",
       "8 Unknown                     3  1508         0       "
      ]
     },
     "metadata": {},
     "output_type": "display_data"
    }
   ],
   "source": [
    "# what % of Stress/Overexertion are heart attacks?-------------------------------------------------------------------------\n",
    "\n",
    "deaths %>% \n",
    "  filter(cause_of_fatal_injury == \"Stress/Overexertion\") %>% \n",
    "  drop_na(nature_of_fatal_injury) %>% \n",
    "  group_by(nature_of_fatal_injury) %>% \n",
    "  summarise(\n",
    "    count = n()\n",
    "  ) %>% \n",
    "  mutate(total_count = sum(count),\n",
    "         frequency = round((count / total_count) * 100))"
   ]
  },
  {
   "cell_type": "markdown",
   "id": "2a0492b3",
   "metadata": {
    "papermill": {
     "duration": 0.013961,
     "end_time": "2024-04-10T15:44:58.701173",
     "exception": false,
     "start_time": "2024-04-10T15:44:58.687212",
     "status": "completed"
    },
    "tags": []
   },
   "source": [
    "### So moving forward I will refer to the Stress/Overexertion cases as cardiac events or heart attacks."
   ]
  },
  {
   "cell_type": "code",
   "execution_count": 27,
   "id": "655a7cc2",
   "metadata": {
    "execution": {
     "iopub.execute_input": "2024-04-10T15:44:58.732147Z",
     "iopub.status.busy": "2024-04-10T15:44:58.730468Z",
     "iopub.status.idle": "2024-04-10T15:44:58.753558Z",
     "shell.execute_reply": "2024-04-10T15:44:58.751645Z"
    },
    "papermill": {
     "duration": 0.04142,
     "end_time": "2024-04-10T15:44:58.756247",
     "exception": false,
     "start_time": "2024-04-10T15:44:58.714827",
     "status": "completed"
    },
    "tags": []
   },
   "outputs": [],
   "source": [
    "# are volunteers more likely to have heart attacks than career?-------------------------------------------------------------------------\n",
    "#create a subset of the data and create a heart attack variable - this will be our main outcome \n",
    "deaths_heartattacks = deaths %>% \n",
    "  select(cause_of_fatal_injury, age, classification) %>% \n",
    "  filter(classification == \"Career\" | classification == \"Volunteer\") %>% \n",
    "  mutate(heart_attack = ifelse(cause_of_fatal_injury == \"Stress/Overexertion\", 1, 0))"
   ]
  },
  {
   "cell_type": "code",
   "execution_count": 28,
   "id": "7f7a3acb",
   "metadata": {
    "execution": {
     "iopub.execute_input": "2024-04-10T15:44:58.787682Z",
     "iopub.status.busy": "2024-04-10T15:44:58.786092Z",
     "iopub.status.idle": "2024-04-10T15:44:58.823749Z",
     "shell.execute_reply": "2024-04-10T15:44:58.822046Z"
    },
    "papermill": {
     "duration": 0.056294,
     "end_time": "2024-04-10T15:44:58.826304",
     "exception": false,
     "start_time": "2024-04-10T15:44:58.770010",
     "status": "completed"
    },
    "tags": []
   },
   "outputs": [
    {
     "data": {
      "text/html": [
       "<table class=\"dataframe\">\n",
       "<caption>A tibble: 2 × 6</caption>\n",
       "<thead>\n",
       "\t<tr><th scope=col>classification</th><th scope=col>count</th><th scope=col>heartattacks</th><th scope=col>age</th><th scope=col>total_count</th><th scope=col>frequency</th></tr>\n",
       "\t<tr><th scope=col>&lt;chr&gt;</th><th scope=col>&lt;int&gt;</th><th scope=col>&lt;dbl&gt;</th><th scope=col>&lt;dbl&gt;</th><th scope=col>&lt;int&gt;</th><th scope=col>&lt;dbl&gt;</th></tr>\n",
       "</thead>\n",
       "<tbody>\n",
       "\t<tr><td>Career   </td><td>1234</td><td>493</td><td>44.02403</td><td>2866</td><td>43</td></tr>\n",
       "\t<tr><td>Volunteer</td><td>1632</td><td>900</td><td>49.01509</td><td>2866</td><td>57</td></tr>\n",
       "</tbody>\n",
       "</table>\n"
      ],
      "text/latex": [
       "A tibble: 2 × 6\n",
       "\\begin{tabular}{llllll}\n",
       " classification & count & heartattacks & age & total\\_count & frequency\\\\\n",
       " <chr> & <int> & <dbl> & <dbl> & <int> & <dbl>\\\\\n",
       "\\hline\n",
       "\t Career    & 1234 & 493 & 44.02403 & 2866 & 43\\\\\n",
       "\t Volunteer & 1632 & 900 & 49.01509 & 2866 & 57\\\\\n",
       "\\end{tabular}\n"
      ],
      "text/markdown": [
       "\n",
       "A tibble: 2 × 6\n",
       "\n",
       "| classification &lt;chr&gt; | count &lt;int&gt; | heartattacks &lt;dbl&gt; | age &lt;dbl&gt; | total_count &lt;int&gt; | frequency &lt;dbl&gt; |\n",
       "|---|---|---|---|---|---|\n",
       "| Career    | 1234 | 493 | 44.02403 | 2866 | 43 |\n",
       "| Volunteer | 1632 | 900 | 49.01509 | 2866 | 57 |\n",
       "\n"
      ],
      "text/plain": [
       "  classification count heartattacks age      total_count frequency\n",
       "1 Career         1234  493          44.02403 2866        43       \n",
       "2 Volunteer      1632  900          49.01509 2866        57       "
      ]
     },
     "metadata": {},
     "output_type": "display_data"
    }
   ],
   "source": [
    "deaths_heartattacks %>% \n",
    "  group_by(classification) %>% \n",
    "  summarise(\n",
    "    count = n(),\n",
    "    heartattacks = sum(heart_attack, na.rm = T),\n",
    "    age = mean(age, na.rm = T)\n",
    "  ) %>% \n",
    "  mutate(total_count = sum(count),\n",
    "         frequency = round((count / total_count) * 100))"
   ]
  },
  {
   "cell_type": "code",
   "execution_count": 29,
   "id": "192859c1",
   "metadata": {
    "execution": {
     "iopub.execute_input": "2024-04-10T15:44:58.860194Z",
     "iopub.status.busy": "2024-04-10T15:44:58.858581Z",
     "iopub.status.idle": "2024-04-10T15:44:58.893025Z",
     "shell.execute_reply": "2024-04-10T15:44:58.891098Z"
    },
    "papermill": {
     "duration": 0.053146,
     "end_time": "2024-04-10T15:44:58.895560",
     "exception": false,
     "start_time": "2024-04-10T15:44:58.842414",
     "status": "completed"
    },
    "tags": []
   },
   "outputs": [],
   "source": [
    "#binomial linear regression test\n",
    "glm99 = glm(heart_attack ~ classification + age, family = \"binomial\", data = deaths_heartattacks)\n"
   ]
  },
  {
   "cell_type": "code",
   "execution_count": 30,
   "id": "efbc57a5",
   "metadata": {
    "execution": {
     "iopub.execute_input": "2024-04-10T15:44:58.934233Z",
     "iopub.status.busy": "2024-04-10T15:44:58.925398Z",
     "iopub.status.idle": "2024-04-10T15:44:58.966183Z",
     "shell.execute_reply": "2024-04-10T15:44:58.964329Z"
    },
    "papermill": {
     "duration": 0.05927,
     "end_time": "2024-04-10T15:44:58.968872",
     "exception": false,
     "start_time": "2024-04-10T15:44:58.909602",
     "status": "completed"
    },
    "tags": []
   },
   "outputs": [
    {
     "data": {
      "text/plain": [
       "\n",
       "Call:\n",
       "glm(formula = heart_attack ~ classification + age, family = \"binomial\", \n",
       "    data = deaths_heartattacks)\n",
       "\n",
       "Deviance Residuals: \n",
       "    Min       1Q   Median       3Q      Max  \n",
       "-2.4241  -0.9880  -0.5425   1.0324   2.0215  \n",
       "\n",
       "Coefficients:\n",
       "                         Estimate Std. Error z value Pr(>|z|)    \n",
       "(Intercept)             -3.157609   0.162938 -19.379  < 2e-16 ***\n",
       "classificationVolunteer  0.339797   0.084329   4.029 5.59e-05 ***\n",
       "age                      0.062655   0.003323  18.853  < 2e-16 ***\n",
       "---\n",
       "Signif. codes:  0 ‘***’ 0.001 ‘**’ 0.01 ‘*’ 0.05 ‘.’ 0.1 ‘ ’ 1\n",
       "\n",
       "(Dispersion parameter for binomial family taken to be 1)\n",
       "\n",
       "    Null deviance: 3825.5  on 2759  degrees of freedom\n",
       "Residual deviance: 3333.6  on 2757  degrees of freedom\n",
       "  (106 observations deleted due to missingness)\n",
       "AIC: 3339.6\n",
       "\n",
       "Number of Fisher Scoring iterations: 4\n"
      ]
     },
     "metadata": {},
     "output_type": "display_data"
    }
   ],
   "source": [
    "summary(glm99)"
   ]
  },
  {
   "cell_type": "markdown",
   "id": "f3303d32",
   "metadata": {
    "papermill": {
     "duration": 0.014194,
     "end_time": "2024-04-10T15:44:58.997498",
     "exception": false,
     "start_time": "2024-04-10T15:44:58.983304",
     "status": "completed"
    },
    "tags": []
   },
   "source": [
    "### In this dataset, volunteer firefighters are significantly more likely to have died due to a cardiac event than career."
   ]
  },
  {
   "cell_type": "markdown",
   "id": "3c13c9d5",
   "metadata": {
    "papermill": {
     "duration": 0.013829,
     "end_time": "2024-04-10T15:44:59.025348",
     "exception": false,
     "start_time": "2024-04-10T15:44:59.011519",
     "status": "completed"
    },
    "tags": []
   },
   "source": [
    "# Conclusions \n",
    "\n",
    "Firefighting is an inherintely dangerous occupation and firefighters face deadly situations on a nearly daily basis. They are expected to be willing to put their own lives at risk at any time in order to serve and protect others. These data show us the unfortunate reality of that expectation, but also helps us to understand the top contributing causes to firefighter fatalies. Understanding these can help us to target health and safety improvement programs  in order to reduce the risk of these top contributors.\n",
    "\n",
    "It is clear that cardiac events are the most significant contributing factor to on-duty deaths, and that age increases the likilihood for this outcome. While cardiac events have many additional risk factors that are not available in these data, we can still learn from this information. Reducing risk for cardiac events is critical, especially as age increases. This can be done in many ways, such as improving diet quality, increasing exercise, reducing excess body weight, and reducing / eliminating alcohol consumption.\n",
    "\n",
    "Vehicle/Aircraft Collision was also a significant contributor, potentially underscoring the need for additonal saftey measures concerning transport. Firefighters spend large amounts of time on the road driving to and from various call responses, making them statistically much more likely to be in an traffic accident. Ideally, driving safety classes should be available and prioritized for anyone who will be driving to calls. Highly rated crash safety features could also be made a top priority when purchasing new vehicles. "
   ]
  }
 ],
 "metadata": {
  "kaggle": {
   "accelerator": "none",
   "dataSources": [
    {
     "datasetId": 4539432,
     "sourceId": 7761673,
     "sourceType": "datasetVersion"
    }
   ],
   "dockerImageVersionId": 30618,
   "isGpuEnabled": false,
   "isInternetEnabled": true,
   "language": "r",
   "sourceType": "notebook"
  },
  "kernelspec": {
   "display_name": "R",
   "language": "R",
   "name": "ir"
  },
  "language_info": {
   "codemirror_mode": "r",
   "file_extension": ".r",
   "mimetype": "text/x-r-source",
   "name": "R",
   "pygments_lexer": "r",
   "version": "4.0.5"
  },
  "papermill": {
   "default_parameters": {},
   "duration": 9.320111,
   "end_time": "2024-04-10T15:44:59.161678",
   "environment_variables": {},
   "exception": null,
   "input_path": "__notebook__.ipynb",
   "output_path": "__notebook__.ipynb",
   "parameters": {},
   "start_time": "2024-04-10T15:44:49.841567",
   "version": "2.5.0"
  }
 },
 "nbformat": 4,
 "nbformat_minor": 5
}
